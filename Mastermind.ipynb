{
 "cells": [
  {
   "cell_type": "markdown",
   "metadata": {},
   "source": [
    "The classic game of Mastermind is played on a tray on which the Mastermind conceals a code and the Guesser has 10 tries to guess it. The code is a sequence of 4 (or 6, sometimes more) pegs of different colors. Each guess is a corresponding sequence of 4 (or more) pegs of different colors. A guess is \"correct\" when the color of every peg in the guess exactly matches the corresponding peg in the Mastermind's code.\n",
    "\n",
    "After each guess by the Guesser, the Mastermind will give a score comprising black & white pegs, not arranged in any order:\n",
    "\n",
    "- Black peg == guess peg matches the color of a code peg in the same position.\n",
    "\n",
    "- White peg == guess peg matches the color of a code peg in another position.\n",
    "\n",
    "Create a function that takes two strings, code and guess as arguments, and returns the score in a dictionary.\n",
    "\n",
    "- The code and guess are strings of numeric digits\n",
    "\n",
    "- The color of the pegs are represented by numeric digits\n",
    "\n",
    "- no \"peg\" may be double-scored"
   ]
  },
  {
   "cell_type": "code",
   "execution_count": 1,
   "metadata": {},
   "outputs": [],
   "source": [
    "\n",
    "def mastermind():\n",
    "    import random\n",
    "    code = \"\"\n",
    "    for a in range(4):\n",
    "        randomInt = str(random.randint(0, 9))\n",
    "        while randomInt in code:\n",
    "            randomInt = str(random.randint(0, 9))\n",
    "        code+=randomInt\n",
    "    for f in range (10):\n",
    "        \n",
    "        black = 0\n",
    "        white = 0\n",
    "        prevDouble=\"\"\n",
    "        highest = 0\n",
    "        guess = input('You have ' + str((10-f))+' trials left. Enter your guess: ')\n",
    "        for i in range(4):\n",
    "            digits = guess[i]\n",
    "\n",
    "            if digits == code[i] and digits not in prevDouble:\n",
    "                black+=1\n",
    "                prevDouble+=str(digits) \n",
    "            elif digits in code and digits not in prevDouble:\n",
    "                white+=1\n",
    "                prevDouble+=str(digits)\n",
    "        print (\"Black : \"+str(black)+\" White : \"+str(white))\n",
    "        if black == 4:\n",
    "            return \"you won the game!!! Congratulations!\"\n",
    "    print(\"Sorry man, you lost the game.\") \n",
    "    print(\"The code was \"+code+\" !!! You suck bro\")\n",
    "    "
   ]
  },
  {
   "cell_type": "code",
   "execution_count": 6,
   "metadata": {},
   "outputs": [
    {
     "name": "stdout",
     "output_type": "stream",
     "text": [
      "You have 10 trials left. Enter your guess: 1234\n",
      "Black : 0 White : 1\n",
      "You have 9 trials left. Enter your guess: 2345\n",
      "Black : 0 White : 0\n",
      "You have 8 trials left. Enter your guess: 6789\n",
      "Black : 0 White : 2\n",
      "You have 7 trials left. Enter your guess: 8901\n",
      "Black : 2 White : 0\n",
      "You have 6 trials left. Enter your guess: 6791\n",
      "Black : 1 White : 2\n",
      "You have 5 trials left. Enter your guess: 7601\n",
      "Black : 4 White : 0\n"
     ]
    },
    {
     "data": {
      "text/plain": [
       "'you won the game!!! Congratulations!'"
      ]
     },
     "execution_count": 6,
     "metadata": {},
     "output_type": "execute_result"
    }
   ],
   "source": [
    "mastermind()"
   ]
  },
  {
   "cell_type": "code",
   "execution_count": null,
   "metadata": {},
   "outputs": [],
   "source": []
  },
  {
   "cell_type": "code",
   "execution_count": null,
   "metadata": {},
   "outputs": [],
   "source": []
  }
 ],
 "metadata": {
  "kernelspec": {
   "display_name": "Python 3",
   "language": "python",
   "name": "python3"
  },
  "language_info": {
   "codemirror_mode": {
    "name": "ipython",
    "version": 3
   },
   "file_extension": ".py",
   "mimetype": "text/x-python",
   "name": "python",
   "nbconvert_exporter": "python",
   "pygments_lexer": "ipython3",
   "version": "3.8.5"
  }
 },
 "nbformat": 4,
 "nbformat_minor": 4
}
